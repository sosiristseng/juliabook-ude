{
 "cells": [
  {
   "cell_type": "markdown",
   "id": "6a2385e8-96d9-4683-ade2-3cf50cb3ac6a",
   "metadata": {},
   "source": [
    "# Training Neural Ordinary Differential Equations\n",
    "\n",
    "Docs: https://diffeqflux.sciml.ai/dev/examples/neural_ode/"
   ]
  },
  {
   "cell_type": "markdown",
   "id": "5df5c4e9",
   "metadata": {},
   "source": [
    "## First N-ODE example\n",
    "\n",
    "A neural ODE is an ODE where a neural network defines its derivative function. $\\dot{u} = NN(u)$"
   ]
  },
  {
   "cell_type": "code",
   "execution_count": null,
   "id": "bc2fe53f",
   "metadata": {},
   "outputs": [],
   "source": [
    "using Lux\n",
    "using DiffEqFlux\n",
    "using DifferentialEquations\n",
    "using Optimization\n",
    "using OptimizationOptimJL\n",
    "using Random\n",
    "using Plots\n",
    "\n",
    "rng = Random.default_rng()"
   ]
  },
  {
   "cell_type": "code",
   "execution_count": null,
   "id": "58dc1c46",
   "metadata": {},
   "outputs": [],
   "source": [
    "u0 = Float32[2.0; 0.0]\n",
    "datasize = 30\n",
    "tspan = (0.0f0, 1.5f0)\n",
    "tsteps = range(tspan[begin], tspan[end], length = datasize)"
   ]
  },
  {
   "cell_type": "markdown",
   "id": "389b09aa",
   "metadata": {},
   "source": [
    "A sprial ODE to train against."
   ]
  },
  {
   "cell_type": "code",
   "execution_count": null,
   "id": "39bb099c",
   "metadata": {},
   "outputs": [],
   "source": [
    "const true_A = Float32[-0.1 2.0; -2.0 -0.1]\n",
    "\n",
    "function trueODEfunc!(du, u, p, t)\n",
    "    du .= ((u.^3)'true_A)'\n",
    "end"
   ]
  },
  {
   "cell_type": "code",
   "execution_count": null,
   "id": "ca504728",
   "metadata": {},
   "outputs": [],
   "source": [
    "prob_trueode = ODEProblem(trueODEfunc!, u0, tspan)\n",
    "ode_data = Array(solve(prob_trueode, Tsit5(), saveat = tsteps))"
   ]
  },
  {
   "cell_type": "code",
   "execution_count": null,
   "id": "9e5a554a",
   "metadata": {},
   "outputs": [],
   "source": [
    "nodeFunc = Lux.Chain(\n",
    "    ActivationFunction(x -> x.^3),\n",
    "    Lux.Dense(2, 50, tanh),\n",
    "    Lux.Dense(50, 2)\n",
    ")\n",
    "\n",
    "p, st = Lux.setup(rng, nodeFunc)"
   ]
  },
  {
   "cell_type": "code",
   "execution_count": null,
   "id": "3f35c1c6",
   "metadata": {},
   "outputs": [],
   "source": [
    "# Parameters for neural network\n",
    "p"
   ]
  },
  {
   "cell_type": "code",
   "execution_count": null,
   "id": "7999e05e",
   "metadata": {},
   "outputs": [],
   "source": [
    "prob_node = NeuralODE(nodeFunc, tspan, Tsit5(), saveat = tsteps)"
   ]
  },
  {
   "cell_type": "code",
   "execution_count": null,
   "id": "1f4812b8",
   "metadata": {},
   "outputs": [],
   "source": [
    "function predict_neuralode(p)\n",
    "    Array(prob_node(u0, p, st)[1])\n",
    "end\n",
    "  \n",
    "function loss_neuralode(p)\n",
    "    pred = predict_neuralode(p)\n",
    "    loss = sum(abs2, ode_data .- pred)\n",
    "    return loss, pred\n",
    "end\n",
    "\n",
    "# Callback function to observe training\n",
    "anim = Animation()\n",
    "callback = function (p, l, pred; doplot = true)\n",
    "  # display(l)\n",
    "  if doplot\n",
    "\tplt = scatter(tsteps, ode_data[1,:], label = \"data\")\n",
    "    scatter!(plt, tsteps, pred[1,:], label = \"prediction\")\n",
    "    frame(anim)\n",
    "    # display(plot(plt))\n",
    "  end\n",
    "  return false\n",
    "end"
   ]
  },
  {
   "cell_type": "code",
   "execution_count": null,
   "id": "6fa507be",
   "metadata": {},
   "outputs": [],
   "source": [
    "# Train using the ADAM optimizer\n",
    "adtype = Optimization.AutoZygote()\n",
    "optf = Optimization.OptimizationFunction((x, p) -> loss_neuralode(x), adtype)\n",
    "optprob = Optimization.OptimizationProblem(optf, Lux.ComponentArray(p))"
   ]
  },
  {
   "cell_type": "code",
   "execution_count": null,
   "id": "e1a77db0",
   "metadata": {},
   "outputs": [],
   "source": [
    "result_neuralode = Optimization.solve(\n",
    "    optprob,\n",
    "    ADAM(0.05),\n",
    "    callback = callback,\n",
    "    maxiters = 300\n",
    ")"
   ]
  },
  {
   "cell_type": "code",
   "execution_count": null,
   "id": "57dd166f",
   "metadata": {},
   "outputs": [],
   "source": [
    "# Retrain using the LBFGS optimizer\n",
    "optprob2 = remake(optprob, u0 = result_neuralode.u)\n",
    "\n",
    "result_neuralode2 = Optimization.solve(\n",
    "    optprob2,\n",
    "    LBFGS(),\n",
    "    callback = callback,\n",
    "    allow_f_increases = false\n",
    ")"
   ]
  },
  {
   "cell_type": "code",
   "execution_count": null,
   "id": "c219e8cb",
   "metadata": {},
   "outputs": [],
   "source": [
    "mp4(anim, fps=15)"
   ]
  },
  {
   "cell_type": "markdown",
   "id": "18411ca2",
   "metadata": {},
   "source": [
    "## Multiple Shooting\n",
    "\n",
    "Docs: <https://diffeqflux.sciml.ai/dev/examples/multiple_shooting/>\n",
    "\n",
    "In Multiple Shooting, the training data is split into overlapping intervals. The solver is then trained on individual intervals."
   ]
  },
  {
   "cell_type": "code",
   "execution_count": null,
   "id": "ac523113",
   "metadata": {},
   "outputs": [],
   "source": [
    "using Lux\n",
    "using DiffEqFlux\n",
    "using Optimization\n",
    "using OptimizationPolyalgorithms\n",
    "using DifferentialEquations\n",
    "using DiffEqFlux: group_ranges\n",
    "using Random\n",
    "rng = Random.default_rng()"
   ]
  },
  {
   "cell_type": "code",
   "execution_count": null,
   "id": "b4e44a3f",
   "metadata": {},
   "outputs": [],
   "source": [
    "# Define initial conditions and time steps\n",
    "datasize = 30\n",
    "u0 = Float32[2.0, 0.0]\n",
    "tspan = (0.0f0, 5.0f0)\n",
    "tsteps = range(tspan[begin], tspan[end], length = datasize)"
   ]
  },
  {
   "cell_type": "code",
   "execution_count": null,
   "id": "e947f4f7",
   "metadata": {},
   "outputs": [],
   "source": [
    "# const true_A = Float32[-0.1 2.0; -2.0 -0.1]\n",
    "# Get the data\n",
    "function trueODEfunc!(du, u, p, t)\n",
    "    du .= ((u.^3)'true_A)'\n",
    "end"
   ]
  },
  {
   "cell_type": "code",
   "execution_count": null,
   "id": "1f7ead0d",
   "metadata": {},
   "outputs": [],
   "source": [
    "prob_trueode = ODEProblem(trueODEfunc!, u0, tspan)\n",
    "ode_data = Array(solve(prob_trueode, Tsit5(), saveat = tsteps))"
   ]
  },
  {
   "cell_type": "code",
   "execution_count": null,
   "id": "ae1dfb4d",
   "metadata": {},
   "outputs": [],
   "source": [
    "# Define the Neural Network\n",
    "nn = Lux.Chain(\n",
    "    ActivationFunction(x -> x.^3),\n",
    "    Lux.Dense(2, 16, tanh),\n",
    "    Lux.Dense(16, 2)\n",
    ")\n",
    "p_init, st = Lux.setup(rng, nn)"
   ]
  },
  {
   "cell_type": "code",
   "execution_count": null,
   "id": "3b15447f",
   "metadata": {},
   "outputs": [],
   "source": [
    "neuralode = NeuralODE(nn, tspan, Tsit5(), saveat = tsteps)\n",
    "prob_node = ODEProblem((u,p,t)->nn(u,p,st)[1], u0, tspan, Lux.ComponentArray(p_init))"
   ]
  },
  {
   "cell_type": "code",
   "execution_count": null,
   "id": "cace36d3",
   "metadata": {},
   "outputs": [],
   "source": [
    "function plot_multiple_shoot(plt, preds, group_size)\n",
    "\tstep = group_size-1\n",
    "\tranges = group_ranges(datasize, group_size)\n",
    "\n",
    "\tfor (i, rg) in enumerate(ranges)\n",
    "\t\tplot!(plt, tsteps[rg], preds[i][1,:], markershape=:circle, label=\"Group $(i)\")\n",
    "\tend\n",
    "end\n",
    "\n",
    "# Animate training\n",
    "anim = Animation()\n",
    "callback = function (p, l, preds; doplot = true)\n",
    "  # display(l)\n",
    "  if doplot\n",
    "\t# plot the original data\n",
    "\tplt = scatter(tsteps, ode_data[1,:], label = \"Data\")\n",
    "\n",
    "\t# plot the different predictions for individual shoot\n",
    "\tplot_multiple_shoot(plt, preds, group_size)\n",
    "\n",
    "    frame(anim)\n",
    "    # display(plot(plt))\n",
    "  end\n",
    "  return false\n",
    "end\n"
   ]
  },
  {
   "cell_type": "code",
   "execution_count": null,
   "id": "379096b9",
   "metadata": {},
   "outputs": [],
   "source": [
    "# Define parameters for Multiple Shooting\n",
    "group_size = 3\n",
    "continuity_term = 200\n",
    "\n",
    "function loss_function(data, pred)\n",
    "\treturn sum(abs2, data - pred)\n",
    "end\n",
    "\n",
    "function loss_multiple_shooting(p)\n",
    "    return multiple_shoot(p, ode_data, tsteps, prob_node, loss_function, Tsit5(),\n",
    "                          group_size; continuity_term)\n",
    "end"
   ]
  },
  {
   "cell_type": "code",
   "execution_count": null,
   "id": "60d67d71",
   "metadata": {},
   "outputs": [],
   "source": [
    "adtype = Optimization.AutoZygote()\n",
    "optf = Optimization.OptimizationFunction((x,p) -> loss_multiple_shooting(x), adtype)\n",
    "optprob = Optimization.OptimizationProblem(optf, Lux.ComponentArray(p_init))\n",
    "res_ms = Optimization.solve(optprob, PolyOpt(), callback = callback)"
   ]
  },
  {
   "cell_type": "code",
   "execution_count": null,
   "id": "0988843c",
   "metadata": {},
   "outputs": [],
   "source": [
    "mp4(anim, fps=15)"
   ]
  }
 ],
 "metadata": {
  "kernelspec": {
   "display_name": "Julia 1.7.3",
   "language": "julia",
   "name": "julia-1.7"
  },
  "language_info": {
   "file_extension": ".jl",
   "mimetype": "application/julia",
   "name": "julia",
   "version": "1.7.3"
  }
 },
 "nbformat": 4,
 "nbformat_minor": 5
}
